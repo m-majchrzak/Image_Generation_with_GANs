{
  "cells": [
    {
      "cell_type": "code",
      "execution_count": null,
      "metadata": {
        "colab": {
          "base_uri": "https://localhost:8080/"
        },
        "id": "c5VU-cmWBG5x",
        "outputId": "45dc3e60-5db0-4d10-e76e-17d4d8ae01b7"
      },
      "outputs": [
        {
          "name": "stdout",
          "output_type": "stream",
          "text": [
            "There are 3 choices for the alternative python3 (providing /usr/bin/python3).\n",
            "\n",
            "  Selection    Path                 Priority   Status\n",
            "------------------------------------------------------------\n",
            "* 0            /usr/bin/python3.10   2         auto mode\n",
            "  1            /usr/bin/python3.10   2         manual mode\n",
            "  2            /usr/bin/python3.7    1         manual mode\n",
            "  3            /usr/bin/python3.8    1         manual mode\n",
            "\n",
            "Press <enter> to keep the current choice[*], or type selection number: 2\n",
            "update-alternatives: using /usr/bin/python3.7 to provide /usr/bin/python3 (python3) in manual mode\n",
            "Python 3.7.17\n",
            "Reading package lists... Done\n",
            "Building dependency tree       \n",
            "Reading state information... Done\n",
            "The following additional packages will be installed:\n",
            "  python-pip-whl python3-setuptools python3-wheel\n",
            "Suggested packages:\n",
            "  python-setuptools-doc\n",
            "The following NEW packages will be installed:\n",
            "  python-pip-whl python3-pip python3-setuptools python3-wheel\n",
            "0 upgraded, 4 newly installed, 0 to remove and 53 not upgraded.\n",
            "Need to get 2,389 kB of archives.\n",
            "After this operation, 4,933 kB of additional disk space will be used.\n",
            "Get:1 http://archive.ubuntu.com/ubuntu focal-updates/universe amd64 python-pip-whl all 20.0.2-5ubuntu1.9 [1,805 kB]\n",
            "Get:2 http://archive.ubuntu.com/ubuntu focal-updates/main amd64 python3-setuptools all 45.2.0-1ubuntu0.1 [330 kB]\n",
            "Get:3 http://archive.ubuntu.com/ubuntu focal-updates/universe amd64 python3-wheel all 0.34.2-1ubuntu0.1 [23.9 kB]\n",
            "Get:4 http://archive.ubuntu.com/ubuntu focal-updates/universe amd64 python3-pip all 20.0.2-5ubuntu1.9 [231 kB]\n",
            "Fetched 2,389 kB in 2s (1,042 kB/s)\n",
            "debconf: unable to initialize frontend: Dialog\n",
            "debconf: (No usable dialog-like program is installed, so the dialog based frontend cannot be used. at /usr/share/perl5/Debconf/FrontEnd/Dialog.pm line 76, <> line 4.)\n",
            "debconf: falling back to frontend: Readline\n",
            "debconf: unable to initialize frontend: Readline\n",
            "debconf: (This frontend requires a controlling tty.)\n",
            "debconf: falling back to frontend: Teletype\n",
            "dpkg-preconfigure: unable to re-open stdin: \n",
            "Selecting previously unselected package python-pip-whl.\n",
            "(Reading database ... 123161 files and directories currently installed.)\n",
            "Preparing to unpack .../python-pip-whl_20.0.2-5ubuntu1.9_all.deb ...\n",
            "Unpacking python-pip-whl (20.0.2-5ubuntu1.9) ...\n",
            "Selecting previously unselected package python3-setuptools.\n",
            "Preparing to unpack .../python3-setuptools_45.2.0-1ubuntu0.1_all.deb ...\n",
            "Unpacking python3-setuptools (45.2.0-1ubuntu0.1) ...\n",
            "Selecting previously unselected package python3-wheel.\n",
            "Preparing to unpack .../python3-wheel_0.34.2-1ubuntu0.1_all.deb ...\n",
            "Unpacking python3-wheel (0.34.2-1ubuntu0.1) ...\n",
            "Selecting previously unselected package python3-pip.\n",
            "Preparing to unpack .../python3-pip_20.0.2-5ubuntu1.9_all.deb ...\n",
            "Unpacking python3-pip (20.0.2-5ubuntu1.9) ...\n",
            "Setting up python3-setuptools (45.2.0-1ubuntu0.1) ...\n",
            "Setting up python3-wheel (0.34.2-1ubuntu0.1) ...\n",
            "Setting up python-pip-whl (20.0.2-5ubuntu1.9) ...\n",
            "Setting up python3-pip (20.0.2-5ubuntu1.9) ...\n",
            "Processing triggers for man-db (2.9.1-1) ...\n"
          ]
        }
      ],
      "source": [
        "#**Add python version you wish** to list\n",
        "!sudo apt-get update -y\n",
        "!sudo apt-get install python3.7\n",
        "from IPython.display import clear_output\n",
        "clear_output()\n",
        "!sudo update-alternatives --install /usr/bin/python3 python3 /usr/bin/python3.7 1\n",
        "\n",
        "# Choose one of the given alternatives:\n",
        "!sudo update-alternatives --config python3\n",
        "\n",
        "# This one used to work but now NOT(for me)!\n",
        "# !sudo update-alternatives --config python\n",
        "\n",
        "# Check the result\n",
        "!python3 --version\n",
        "\n",
        "# Attention: Install pip (... needed!)\n",
        "!sudo apt install python3-pip"
      ]
    },
    {
      "cell_type": "code",
      "execution_count": null,
      "metadata": {
        "colab": {
          "base_uri": "https://localhost:8080/"
        },
        "id": "OmTF0fpzCpKe",
        "outputId": "c8bd97f3-758d-40bd-be07-b797d3f25397"
      },
      "outputs": [
        {
          "name": "stdout",
          "output_type": "stream",
          "text": [
            " This PPA contains more recent Python versions packaged for Ubuntu.\n",
            "\n",
            "Disclaimer: there's no guarantee of timely updates in case of security problems or other issues. If you want to use them in a security-or-otherwise-critical environment (say, on a production server), you do so at your own risk.\n",
            "\n",
            "Update Note\n",
            "===========\n",
            "Please use this repository instead of ppa:fkrull/deadsnakes.\n",
            "\n",
            "Reporting Issues\n",
            "================\n",
            "\n",
            "Issues can be reported in the master issue tracker at:\n",
            "https://github.com/deadsnakes/issues/issues\n",
            "\n",
            "Supported Ubuntu and Python Versions\n",
            "====================================\n",
            "\n",
            "- Ubuntu 20.04 (focal) Python3.5 - Python3.7, Python3.9 - Python3.11\n",
            "- Ubuntu 22.04 (jammy) Python3.7 - Python3.9, Python3.11\n",
            "- Note: Python2.7 (all), Python 3.8 (focal), Python 3.10 (jammy) are not provided by deadsnakes as upstream ubuntu provides those packages.\n",
            "\n",
            "Why some packages aren't built:\n",
            "- Note: for focal, older python versions require libssl<1.1 so they are not currently built\n",
            "- Note: for jammy, older python versions requre libssl<3 so they are not currently built\n",
            "- If you need these, reach out to asottile to set up a private ppa\n",
            "\n",
            "The packages may also work on other versions of Ubuntu or Debian, but that is not tested or supported.\n",
            "\n",
            "Packages\n",
            "========\n",
            "\n",
            "The packages provided here are loosely based on the debian upstream packages with some modifications to make them more usable as non-default pythons and on ubuntu.  As such, the packages follow debian's patterns and often do not include a full python distribution with just `apt install python#.#`.  Here is a list of packages that may be useful along with the default install:\n",
            "\n",
            "- `python#.#-dev`: includes development headers for building C extensions\n",
            "- `python#.#-venv`: provides the standard library `venv` module\n",
            "- `python#.#-distutils`: provides the standard library `distutils` module\n",
            "- `python#.#-lib2to3`: provides the `2to3-#.#` utility as well as the standard library `lib2to3` module\n",
            "- `python#.#-gdbm`: provides the standard library `dbm.gnu` module\n",
            "- `python#.#-tk`: provides the standard library `tkinter` module\n",
            "\n",
            "Third-Party Python Modules\n",
            "==========================\n",
            "\n",
            "Python modules in the official Ubuntu repositories are packaged to work with the Python interpreters from the official repositories. Accordingly, they generally won't work with the Python interpreters from this PPA. As an exception, pure-Python modules for Python 3 will work, but any compiled extension modules won't.\n",
            "\n",
            "To install 3rd-party Python modules, you should use the common Python packaging tools.  For an introduction into the Python packaging ecosystem and its tools, refer to the Python Packaging User Guide:\n",
            "https://packaging.python.org/installing/\n",
            "\n",
            "Sources\n",
            "=======\n",
            "The package sources are available at:\n",
            "https://github.com/deadsnakes/\n",
            "\n",
            "Nightly Builds\n",
            "==============\n",
            "\n",
            "For nightly builds, see ppa:deadsnakes/nightly https://launchpad.net/~deadsnakes/+archive/ubuntu/nightly\n",
            " More info: https://launchpad.net/~deadsnakes/+archive/ubuntu/ppa\n",
            "Press [ENTER] to continue or Ctrl-c to cancel adding it.\n",
            "\n",
            "Hit:1 https://developer.download.nvidia.com/compute/cuda/repos/ubuntu2004/x86_64  InRelease\n",
            "0% [Connecting to archive.ubuntu.com] [Connecting to security.ubuntu.com (185.1\n",
            "Hit:2 https://cloud.r-project.org/bin/linux/ubuntu focal-cran40/ InRelease\n",
            "Hit:3 http://security.ubuntu.com/ubuntu focal-security InRelease\n",
            "Hit:4 http://ppa.launchpad.net/c2d4u.team/c2d4u4.0+/ubuntu focal InRelease\n",
            "Hit:5 http://archive.ubuntu.com/ubuntu focal InRelease\n",
            "Hit:6 http://archive.ubuntu.com/ubuntu focal-updates InRelease\n",
            "Hit:7 http://ppa.launchpad.net/cran/libgit2/ubuntu focal InRelease\n",
            "Hit:8 http://archive.ubuntu.com/ubuntu focal-backports InRelease\n",
            "Hit:9 http://ppa.launchpad.net/deadsnakes/ppa/ubuntu focal InRelease\n",
            "Hit:10 http://ppa.launchpad.net/graphics-drivers/ppa/ubuntu focal InRelease\n",
            "Hit:11 http://ppa.launchpad.net/ubuntugis/ppa/ubuntu focal InRelease\n",
            "Reading package lists... Done\n",
            "Hit:1 https://cloud.r-project.org/bin/linux/ubuntu focal-cran40/ InRelease\n",
            "Hit:2 https://developer.download.nvidia.com/compute/cuda/repos/ubuntu2004/x86_64  InRelease\n",
            "Hit:3 http://ppa.launchpad.net/c2d4u.team/c2d4u4.0+/ubuntu focal InRelease\n",
            "Hit:4 http://security.ubuntu.com/ubuntu focal-security InRelease\n",
            "Hit:5 http://archive.ubuntu.com/ubuntu focal InRelease\n",
            "Hit:6 http://archive.ubuntu.com/ubuntu focal-updates InRelease\n",
            "Hit:7 http://ppa.launchpad.net/cran/libgit2/ubuntu focal InRelease\n",
            "Hit:8 http://archive.ubuntu.com/ubuntu focal-backports InRelease\n",
            "Hit:9 http://ppa.launchpad.net/deadsnakes/ppa/ubuntu focal InRelease\n",
            "Hit:10 http://ppa.launchpad.net/graphics-drivers/ppa/ubuntu focal InRelease\n",
            "Hit:11 http://ppa.launchpad.net/ubuntugis/ppa/ubuntu focal InRelease\n",
            "Reading package lists... Done\n"
          ]
        }
      ],
      "source": [
        "!sudo add-apt-repository ppa:deadsnakes/ppa\n",
        "!sudo apt-get update"
      ]
    },
    {
      "cell_type": "code",
      "execution_count": null,
      "metadata": {
        "colab": {
          "base_uri": "https://localhost:8080/"
        },
        "id": "UilJM3N9C8St",
        "outputId": "b21a6476-ceef-47d7-c350-48ebc6fc4f77"
      },
      "outputs": [
        {
          "name": "stdout",
          "output_type": "stream",
          "text": [
            "Reading package lists... Done\n",
            "Building dependency tree       \n",
            "Reading state information... Done\n",
            "The following additional packages will be installed:\n",
            "  python3.7-lib2to3\n",
            "The following NEW packages will be installed:\n",
            "  python3.7-distutils python3.7-lib2to3\n",
            "0 upgraded, 2 newly installed, 0 to remove and 53 not upgraded.\n",
            "Need to get 309 kB of archives.\n",
            "After this operation, 1,229 kB of additional disk space will be used.\n",
            "Get:1 http://ppa.launchpad.net/deadsnakes/ppa/ubuntu focal/main amd64 python3.7-lib2to3 all 3.7.17-1+focal1 [122 kB]\n",
            "Get:2 http://ppa.launchpad.net/deadsnakes/ppa/ubuntu focal/main amd64 python3.7-distutils all 3.7.17-1+focal1 [187 kB]\n",
            "Fetched 309 kB in 2s (171 kB/s)\n",
            "debconf: unable to initialize frontend: Dialog\n",
            "debconf: (No usable dialog-like program is installed, so the dialog based frontend cannot be used. at /usr/share/perl5/Debconf/FrontEnd/Dialog.pm line 76, <> line 2.)\n",
            "debconf: falling back to frontend: Readline\n",
            "debconf: unable to initialize frontend: Readline\n",
            "debconf: (This frontend requires a controlling tty.)\n",
            "debconf: falling back to frontend: Teletype\n",
            "dpkg-preconfigure: unable to re-open stdin: \n",
            "Selecting previously unselected package python3.7-lib2to3.\n",
            "(Reading database ... 123525 files and directories currently installed.)\n",
            "Preparing to unpack .../python3.7-lib2to3_3.7.17-1+focal1_all.deb ...\n",
            "Unpacking python3.7-lib2to3 (3.7.17-1+focal1) ...\n",
            "Selecting previously unselected package python3.7-distutils.\n",
            "Preparing to unpack .../python3.7-distutils_3.7.17-1+focal1_all.deb ...\n",
            "Unpacking python3.7-distutils (3.7.17-1+focal1) ...\n",
            "Setting up python3.7-lib2to3 (3.7.17-1+focal1) ...\n",
            "Setting up python3.7-distutils (3.7.17-1+focal1) ...\n"
          ]
        }
      ],
      "source": [
        "!sudo apt install python3.7-distutils"
      ]
    },
    {
      "cell_type": "code",
      "execution_count": null,
      "metadata": {
        "colab": {
          "base_uri": "https://localhost:8080/"
        },
        "id": "MTCBLmon2ok2",
        "outputId": "3cd4098f-fb9d-44f1-83ab-86f959a15496"
      },
      "outputs": [
        {
          "name": "stdout",
          "output_type": "stream",
          "text": [
            "Cloning into 'Diffusion-GAN'...\n",
            "remote: Enumerating objects: 292, done.\u001b[K\n",
            "remote: Counting objects: 100% (65/65), done.\u001b[K\n",
            "remote: Compressing objects: 100% (44/44), done.\u001b[K\n",
            "remote: Total 292 (delta 32), reused 30 (delta 21), pack-reused 227\u001b[K\n",
            "Receiving objects: 100% (292/292), 9.74 MiB | 8.95 MiB/s, done.\n",
            "Resolving deltas: 100% (143/143), done.\n"
          ]
        }
      ],
      "source": [
        "!git clone https://github.com/Zhendong-Wang/Diffusion-GAN.git"
      ]
    },
    {
      "cell_type": "code",
      "execution_count": null,
      "metadata": {
        "colab": {
          "base_uri": "https://localhost:8080/"
        },
        "id": "fb5YoPQ03SmY",
        "outputId": "719a098a-c1d2-44ad-944b-b68c7d1c9b8a"
      },
      "outputs": [
        {
          "name": "stdout",
          "output_type": "stream",
          "text": [
            "Looking in indexes: https://pypi.org/simple, https://us-python.pkg.dev/colab-wheels/public/simple/\n",
            "Collecting click\n",
            "  Downloading click-8.1.3-py3-none-any.whl (96 kB)\n",
            "\u001b[K     |████████████████████████████████| 96 kB 4.7 MB/s \n",
            "\u001b[?25hCollecting requests\n",
            "  Downloading requests-2.31.0-py3-none-any.whl (62 kB)\n",
            "\u001b[K     |████████████████████████████████| 62 kB 1.1 MB/s \n",
            "\u001b[?25hCollecting tqdm\n",
            "  Downloading tqdm-4.65.0-py3-none-any.whl (77 kB)\n",
            "\u001b[K     |████████████████████████████████| 77 kB 6.6 MB/s \n",
            "\u001b[?25hCollecting pyspng\n",
            "  Downloading pyspng-0.1.1-cp37-cp37m-manylinux_2_17_x86_64.manylinux2014_x86_64.whl (207 kB)\n",
            "\u001b[K     |████████████████████████████████| 207 kB 57.7 MB/s \n",
            "\u001b[?25hCollecting ninja\n",
            "  Downloading ninja-1.11.1-py2.py3-none-manylinux_2_12_x86_64.manylinux2010_x86_64.whl (145 kB)\n",
            "\u001b[K     |████████████████████████████████| 145 kB 47.0 MB/s \n",
            "\u001b[?25hCollecting timm==0.4.12\n",
            "  Downloading timm-0.4.12-py3-none-any.whl (376 kB)\n",
            "\u001b[K     |████████████████████████████████| 376 kB 67.6 MB/s \n",
            "\u001b[?25hCollecting dill\n",
            "  Downloading dill-0.3.6-py3-none-any.whl (110 kB)\n",
            "\u001b[K     |████████████████████████████████| 110 kB 70.3 MB/s \n",
            "\u001b[?25hCollecting imageio-ffmpeg==0.4.3\n",
            "  Downloading imageio_ffmpeg-0.4.3-py3-none-manylinux2010_x86_64.whl (26.9 MB)\n",
            "\u001b[K     |████████████████████████████████| 26.9 MB 1.3 MB/s \n",
            "\u001b[?25hCollecting torchvision==0.10.1\n",
            "  Downloading torchvision-0.10.1-cp37-cp37m-manylinux1_x86_64.whl (22.1 MB)\n",
            "\u001b[K     |████████████████████████████████| 22.1 MB 1.2 MB/s \n",
            "\u001b[?25hCollecting torch==1.9.1\n",
            "  Downloading torch-1.9.1-cp37-cp37m-manylinux1_x86_64.whl (831.4 MB)\n",
            "\u001b[K     |████████████████████████████████| 831.4 MB 6.4 kB/s \n",
            "\u001b[?25hCollecting importlib-metadata; python_version < \"3.8\"\n",
            "  Downloading importlib_metadata-6.6.0-py3-none-any.whl (22 kB)\n",
            "Collecting urllib3<3,>=1.21.1\n",
            "  Downloading urllib3-2.0.3-py3-none-any.whl (123 kB)\n",
            "\u001b[K     |████████████████████████████████| 123 kB 67.3 MB/s \n",
            "\u001b[?25hCollecting idna<4,>=2.5\n",
            "  Downloading idna-3.4-py3-none-any.whl (61 kB)\n",
            "\u001b[K     |████████████████████████████████| 61 kB 120 kB/s \n",
            "\u001b[?25hCollecting certifi>=2017.4.17\n",
            "  Downloading certifi-2023.5.7-py3-none-any.whl (156 kB)\n",
            "\u001b[K     |████████████████████████████████| 156 kB 69.6 MB/s \n",
            "\u001b[?25hCollecting charset-normalizer<4,>=2\n",
            "  Downloading charset_normalizer-3.1.0-cp37-cp37m-manylinux_2_17_x86_64.manylinux2014_x86_64.whl (171 kB)\n",
            "\u001b[K     |████████████████████████████████| 171 kB 69.5 MB/s \n",
            "\u001b[?25hCollecting numpy\n",
            "  Downloading numpy-1.21.6-cp37-cp37m-manylinux_2_12_x86_64.manylinux2010_x86_64.whl (15.7 MB)\n",
            "\u001b[K     |████████████████████████████████| 15.7 MB 58.4 MB/s \n",
            "\u001b[?25hCollecting pillow>=5.3.0\n",
            "  Downloading Pillow-9.5.0-cp37-cp37m-manylinux_2_17_x86_64.manylinux2014_x86_64.whl (3.3 MB)\n",
            "\u001b[K     |████████████████████████████████| 3.3 MB 56.0 MB/s \n",
            "\u001b[?25hCollecting typing-extensions\n",
            "  Downloading typing_extensions-4.6.3-py3-none-any.whl (31 kB)\n",
            "Collecting zipp>=0.5\n",
            "  Downloading zipp-3.15.0-py3-none-any.whl (6.8 kB)\n",
            "Installing collected packages: typing-extensions, zipp, importlib-metadata, click, urllib3, idna, certifi, charset-normalizer, requests, tqdm, numpy, pyspng, ninja, torch, pillow, torchvision, timm, dill, imageio-ffmpeg\n",
            "Successfully installed certifi-2023.5.7 charset-normalizer-3.1.0 click-8.1.3 dill-0.3.6 idna-3.4 imageio-ffmpeg-0.4.3 importlib-metadata-6.6.0 ninja-1.11.1 numpy-1.21.6 pillow-9.5.0 pyspng-0.1.1 requests-2.31.0 timm-0.4.12 torch-1.9.1 torchvision-0.10.1 tqdm-4.65.0 typing-extensions-4.6.3 urllib3-2.0.3 zipp-3.15.0\n"
          ]
        }
      ],
      "source": [
        "!pip3 install click requests tqdm pyspng ninja timm==0.4.12 dill imageio-ffmpeg==0.4.3 torchvision==0.10.1 torch==1.9.1"
      ]
    },
    {
      "cell_type": "code",
      "execution_count": null,
      "metadata": {
        "colab": {
          "base_uri": "https://localhost:8080/"
        },
        "id": "62kypmCvDoi3",
        "outputId": "6d0722fa-dc32-45d8-9041-58c1558e4c41"
      },
      "outputs": [
        {
          "name": "stdout",
          "output_type": "stream",
          "text": [
            "Looking in indexes: https://pypi.org/simple, https://us-python.pkg.dev/colab-wheels/public/simple/\n",
            "Collecting scipy\n",
            "  Using cached scipy-1.7.3-cp37-cp37m-manylinux_2_12_x86_64.manylinux2010_x86_64.whl (38.1 MB)\n",
            "Requirement already satisfied: numpy<1.23.0,>=1.16.5 in /usr/local/lib/python3.7/dist-packages (from scipy) (1.21.6)\n",
            "Installing collected packages: scipy\n",
            "Successfully installed scipy-1.7.3\n"
          ]
        }
      ],
      "source": [
        "!pip3 install scipy"
      ]
    },
    {
      "cell_type": "code",
      "execution_count": null,
      "metadata": {
        "colab": {
          "base_uri": "https://localhost:8080/"
        },
        "id": "TRLTb4Ii3jHb",
        "outputId": "a4a72277-082a-41f1-e0cc-80ec830b4699"
      },
      "outputs": [
        {
          "name": "stdout",
          "output_type": "stream",
          "text": [
            "Loading networks from \"https://huggingface.co/zhendongw/diffusion-gan/resolve/main/checkpoints/diffusion-projectedgan-lsun-bedroom.pkl\"...\n",
            "Generating image for seed 1 (0/100) ...\n",
            "Generating image for seed 2 (1/100) ...\n",
            "Generating image for seed 3 (2/100) ...\n",
            "Generating image for seed 4 (3/100) ...\n",
            "Generating image for seed 5 (4/100) ...\n",
            "Generating image for seed 6 (5/100) ...\n",
            "Generating image for seed 7 (6/100) ...\n",
            "Generating image for seed 8 (7/100) ...\n",
            "Generating image for seed 9 (8/100) ...\n",
            "Generating image for seed 10 (9/100) ...\n",
            "Generating image for seed 11 (10/100) ...\n",
            "Generating image for seed 12 (11/100) ...\n",
            "Generating image for seed 13 (12/100) ...\n",
            "Generating image for seed 14 (13/100) ...\n",
            "Generating image for seed 15 (14/100) ...\n",
            "Generating image for seed 16 (15/100) ...\n",
            "Generating image for seed 17 (16/100) ...\n",
            "Generating image for seed 18 (17/100) ...\n",
            "Generating image for seed 19 (18/100) ...\n",
            "Generating image for seed 20 (19/100) ...\n",
            "Generating image for seed 21 (20/100) ...\n",
            "Generating image for seed 22 (21/100) ...\n",
            "Generating image for seed 23 (22/100) ...\n",
            "Generating image for seed 24 (23/100) ...\n",
            "Generating image for seed 25 (24/100) ...\n",
            "Generating image for seed 26 (25/100) ...\n",
            "Generating image for seed 27 (26/100) ...\n",
            "Generating image for seed 28 (27/100) ...\n",
            "Generating image for seed 29 (28/100) ...\n",
            "Generating image for seed 30 (29/100) ...\n",
            "Generating image for seed 31 (30/100) ...\n",
            "Generating image for seed 32 (31/100) ...\n",
            "Generating image for seed 33 (32/100) ...\n",
            "Generating image for seed 34 (33/100) ...\n",
            "Generating image for seed 35 (34/100) ...\n",
            "Generating image for seed 36 (35/100) ...\n",
            "Generating image for seed 37 (36/100) ...\n",
            "Generating image for seed 38 (37/100) ...\n",
            "Generating image for seed 39 (38/100) ...\n",
            "Generating image for seed 40 (39/100) ...\n",
            "Generating image for seed 41 (40/100) ...\n",
            "Generating image for seed 42 (41/100) ...\n",
            "Generating image for seed 43 (42/100) ...\n",
            "Generating image for seed 44 (43/100) ...\n",
            "Generating image for seed 45 (44/100) ...\n",
            "Generating image for seed 46 (45/100) ...\n",
            "Generating image for seed 47 (46/100) ...\n",
            "Generating image for seed 48 (47/100) ...\n",
            "Generating image for seed 49 (48/100) ...\n",
            "Generating image for seed 50 (49/100) ...\n",
            "Generating image for seed 51 (50/100) ...\n",
            "Generating image for seed 52 (51/100) ...\n",
            "Generating image for seed 53 (52/100) ...\n",
            "Generating image for seed 54 (53/100) ...\n",
            "Generating image for seed 55 (54/100) ...\n",
            "Generating image for seed 56 (55/100) ...\n",
            "Generating image for seed 57 (56/100) ...\n",
            "Generating image for seed 58 (57/100) ...\n",
            "Generating image for seed 59 (58/100) ...\n",
            "Generating image for seed 60 (59/100) ...\n",
            "Generating image for seed 61 (60/100) ...\n",
            "Generating image for seed 62 (61/100) ...\n",
            "Generating image for seed 63 (62/100) ...\n",
            "Generating image for seed 64 (63/100) ...\n",
            "Generating image for seed 65 (64/100) ...\n",
            "Generating image for seed 66 (65/100) ...\n",
            "Generating image for seed 67 (66/100) ...\n",
            "Generating image for seed 68 (67/100) ...\n",
            "Generating image for seed 69 (68/100) ...\n",
            "Generating image for seed 70 (69/100) ...\n",
            "Generating image for seed 71 (70/100) ...\n",
            "Generating image for seed 72 (71/100) ...\n",
            "Generating image for seed 73 (72/100) ...\n",
            "Generating image for seed 74 (73/100) ...\n",
            "Generating image for seed 75 (74/100) ...\n",
            "Generating image for seed 76 (75/100) ...\n",
            "Generating image for seed 77 (76/100) ...\n",
            "Generating image for seed 78 (77/100) ...\n",
            "Generating image for seed 79 (78/100) ...\n",
            "Generating image for seed 80 (79/100) ...\n",
            "Generating image for seed 81 (80/100) ...\n",
            "Generating image for seed 82 (81/100) ...\n",
            "Generating image for seed 83 (82/100) ...\n",
            "Generating image for seed 84 (83/100) ...\n",
            "Generating image for seed 85 (84/100) ...\n",
            "Generating image for seed 86 (85/100) ...\n",
            "Generating image for seed 87 (86/100) ...\n",
            "Generating image for seed 88 (87/100) ...\n",
            "Generating image for seed 89 (88/100) ...\n",
            "Generating image for seed 90 (89/100) ...\n",
            "Generating image for seed 91 (90/100) ...\n",
            "Generating image for seed 92 (91/100) ...\n",
            "Generating image for seed 93 (92/100) ...\n",
            "Generating image for seed 94 (93/100) ...\n",
            "Generating image for seed 95 (94/100) ...\n",
            "Generating image for seed 96 (95/100) ...\n",
            "Generating image for seed 97 (96/100) ...\n",
            "Generating image for seed 98 (97/100) ...\n",
            "Generating image for seed 99 (98/100) ...\n",
            "Generating image for seed 100 (99/100) ...\n"
          ]
        }
      ],
      "source": [
        "!python3 /content/Diffusion-GAN/diffusion-projected-gan/gen_images.py --outdir=out --seeds=1-100 \\\n",
        "    --network=https://huggingface.co/zhendongw/diffusion-gan/resolve/main/checkpoints/diffusion-projectedgan-lsun-bedroom.pkl"
      ]
    }
  ],
  "metadata": {
    "accelerator": "GPU",
    "colab": {
      "provenance": []
    },
    "kernelspec": {
      "display_name": "Python 3",
      "name": "python3"
    },
    "language_info": {
      "name": "python"
    }
  },
  "nbformat": 4,
  "nbformat_minor": 0
}